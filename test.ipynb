{
 "cells": [
  {
   "cell_type": "code",
   "execution_count": 18,
   "metadata": {},
   "outputs": [
    {
     "name": "stdout",
     "output_type": "stream",
     "text": [
      "True\n",
      "0\n"
     ]
    },
    {
     "ename": "AttributeError",
     "evalue": "'SignedTransaction' object has no attribute 'keys'",
     "output_type": "error",
     "traceback": [
      "\u001b[0;31m---------------------------------------------------------------------------\u001b[0m",
      "\u001b[0;31mAttributeError\u001b[0m                            Traceback (most recent call last)",
      "Cell \u001b[0;32mIn[18], line 33\u001b[0m\n\u001b[1;32m     30\u001b[0m signed_tx \u001b[39m=\u001b[39m w3\u001b[39m.\u001b[39meth\u001b[39m.\u001b[39maccount\u001b[39m.\u001b[39msign_transaction(tx, \u001b[39m'\u001b[39m\u001b[39m0x4646464646464646464646464646464646464646464646464646464646464646\u001b[39m\u001b[39m'\u001b[39m)\n\u001b[1;32m     32\u001b[0m \u001b[39m# 4. Send the transaction\u001b[39;00m\n\u001b[0;32m---> 33\u001b[0m tx_hash \u001b[39m=\u001b[39m w3\u001b[39m.\u001b[39;49meth\u001b[39m.\u001b[39;49msend_transaction(signed_tx)\n\u001b[1;32m     34\u001b[0m \u001b[39mprint\u001b[39m(tx_hash)\n\u001b[1;32m     36\u001b[0m \u001b[39m# 5. Get the transaction hash\u001b[39;00m\n",
      "File \u001b[0;32m~/.local/lib/python3.10/site-packages/web3/eth/eth.py:381\u001b[0m, in \u001b[0;36mEth.send_transaction\u001b[0;34m(self, transaction)\u001b[0m\n\u001b[1;32m    380\u001b[0m \u001b[39mdef\u001b[39;00m \u001b[39msend_transaction\u001b[39m(\u001b[39mself\u001b[39m, transaction: TxParams) \u001b[39m-\u001b[39m\u001b[39m>\u001b[39m HexBytes:\n\u001b[0;32m--> 381\u001b[0m     \u001b[39mreturn\u001b[39;00m \u001b[39mself\u001b[39;49m\u001b[39m.\u001b[39;49m_send_transaction(transaction)\n",
      "File \u001b[0;32m~/.local/lib/python3.10/site-packages/web3/module.py:64\u001b[0m, in \u001b[0;36mretrieve_blocking_method_call_fn.<locals>.caller\u001b[0;34m(*args, **kwargs)\u001b[0m\n\u001b[1;32m     62\u001b[0m \u001b[39mdef\u001b[39;00m \u001b[39mcaller\u001b[39m(\u001b[39m*\u001b[39margs: Any, \u001b[39m*\u001b[39m\u001b[39m*\u001b[39mkwargs: Any) \u001b[39m-\u001b[39m\u001b[39m>\u001b[39m Union[TReturn, LogFilter]:\n\u001b[1;32m     63\u001b[0m     \u001b[39mtry\u001b[39;00m:\n\u001b[0;32m---> 64\u001b[0m         (method_str, params), response_formatters \u001b[39m=\u001b[39m method\u001b[39m.\u001b[39;49mprocess_params(\n\u001b[1;32m     65\u001b[0m             module, \u001b[39m*\u001b[39;49margs, \u001b[39m*\u001b[39;49m\u001b[39m*\u001b[39;49mkwargs\n\u001b[1;32m     66\u001b[0m         )\n\u001b[1;32m     67\u001b[0m     \u001b[39mexcept\u001b[39;00m _UseExistingFilter \u001b[39mas\u001b[39;00m err:\n\u001b[1;32m     68\u001b[0m         \u001b[39mreturn\u001b[39;00m LogFilter(eth_module\u001b[39m=\u001b[39mmodule, filter_id\u001b[39m=\u001b[39merr\u001b[39m.\u001b[39mfilter_id)\n",
      "File \u001b[0;32m~/.local/lib/python3.10/site-packages/web3/method.py:214\u001b[0m, in \u001b[0;36mMethod.process_params\u001b[0;34m(self, module, *args, **kwargs)\u001b[0m\n\u001b[1;32m    206\u001b[0m method \u001b[39m=\u001b[39m \u001b[39mself\u001b[39m\u001b[39m.\u001b[39mmethod_selector_fn()\n\u001b[1;32m    207\u001b[0m response_formatters \u001b[39m=\u001b[39m (\n\u001b[1;32m    208\u001b[0m     \u001b[39mself\u001b[39m\u001b[39m.\u001b[39mresult_formatters(method, module),\n\u001b[1;32m    209\u001b[0m     get_error_formatters(method),\n\u001b[1;32m    210\u001b[0m     \u001b[39mself\u001b[39m\u001b[39m.\u001b[39mnull_result_formatters(method),\n\u001b[1;32m    211\u001b[0m )\n\u001b[1;32m    212\u001b[0m request \u001b[39m=\u001b[39m (\n\u001b[1;32m    213\u001b[0m     method,\n\u001b[0;32m--> 214\u001b[0m     _apply_request_formatters(params, \u001b[39mself\u001b[39;49m\u001b[39m.\u001b[39;49mrequest_formatters(method)),\n\u001b[1;32m    215\u001b[0m )\n\u001b[1;32m    216\u001b[0m \u001b[39mreturn\u001b[39;00m request, response_formatters\n",
      "File \u001b[0;32m~/.local/lib/python3.10/site-packages/eth_utils/functional.py:47\u001b[0m, in \u001b[0;36mapply_to_return_value.<locals>.outer.<locals>.inner\u001b[0;34m(*args, **kwargs)\u001b[0m\n\u001b[1;32m     45\u001b[0m \u001b[39m@functools\u001b[39m\u001b[39m.\u001b[39mwraps(fn)\n\u001b[1;32m     46\u001b[0m \u001b[39mdef\u001b[39;00m \u001b[39minner\u001b[39m(\u001b[39m*\u001b[39margs, \u001b[39m*\u001b[39m\u001b[39m*\u001b[39mkwargs) \u001b[39m-\u001b[39m\u001b[39m>\u001b[39m T:  \u001b[39m# type: ignore\u001b[39;00m\n\u001b[0;32m---> 47\u001b[0m     \u001b[39mreturn\u001b[39;00m callback(fn(\u001b[39m*\u001b[39;49margs, \u001b[39m*\u001b[39;49m\u001b[39m*\u001b[39;49mkwargs))\n",
      "File \u001b[0;32m~/.local/lib/python3.10/site-packages/web3/method.py:55\u001b[0m, in \u001b[0;36m_apply_request_formatters\u001b[0;34m(params, request_formatters)\u001b[0m\n\u001b[1;32m     50\u001b[0m \u001b[39m@to_tuple\u001b[39m\n\u001b[1;32m     51\u001b[0m \u001b[39mdef\u001b[39;00m \u001b[39m_apply_request_formatters\u001b[39m(\n\u001b[1;32m     52\u001b[0m     params: Any, request_formatters: Dict[RPCEndpoint, Callable[\u001b[39m.\u001b[39m\u001b[39m.\u001b[39m\u001b[39m.\u001b[39m, TReturn]]\n\u001b[1;32m     53\u001b[0m ) \u001b[39m-\u001b[39m\u001b[39m>\u001b[39m Tuple[Any, \u001b[39m.\u001b[39m\u001b[39m.\u001b[39m\u001b[39m.\u001b[39m]:\n\u001b[1;32m     54\u001b[0m     \u001b[39mif\u001b[39;00m request_formatters:\n\u001b[0;32m---> 55\u001b[0m         formatted_params \u001b[39m=\u001b[39m pipe(params, request_formatters)\n\u001b[1;32m     56\u001b[0m         \u001b[39mreturn\u001b[39;00m formatted_params\n\u001b[1;32m     57\u001b[0m     \u001b[39mreturn\u001b[39;00m params\n",
      "File \u001b[0;32m~/.local/lib/python3.10/site-packages/cytoolz/functoolz.pyx:680\u001b[0m, in \u001b[0;36mcytoolz.functoolz.pipe\u001b[0;34m()\u001b[0m\n",
      "File \u001b[0;32m~/.local/lib/python3.10/site-packages/cytoolz/functoolz.pyx:655\u001b[0m, in \u001b[0;36mcytoolz.functoolz.c_pipe\u001b[0;34m()\u001b[0m\n",
      "File \u001b[0;32m~/.local/lib/python3.10/site-packages/cytoolz/functoolz.pyx:518\u001b[0m, in \u001b[0;36mcytoolz.functoolz.Compose.__call__\u001b[0;34m()\u001b[0m\n",
      "File \u001b[0;32m~/.local/lib/python3.10/site-packages/cytoolz/functoolz.pyx:263\u001b[0m, in \u001b[0;36mcytoolz.functoolz.curry.__call__\u001b[0;34m()\u001b[0m\n",
      "File \u001b[0;32m~/.local/lib/python3.10/site-packages/eth_utils/decorators.py:102\u001b[0m, in \u001b[0;36mreturn_arg_type.<locals>.decorator.<locals>.wrapper\u001b[0;34m(*args, **kwargs)\u001b[0m\n\u001b[1;32m    100\u001b[0m result \u001b[39m=\u001b[39m to_wrap(\u001b[39m*\u001b[39margs, \u001b[39m*\u001b[39m\u001b[39m*\u001b[39mkwargs)\n\u001b[1;32m    101\u001b[0m ReturnType \u001b[39m=\u001b[39m \u001b[39mtype\u001b[39m(args[at_position])\n\u001b[0;32m--> 102\u001b[0m \u001b[39mreturn\u001b[39;00m ReturnType(result)\n",
      "File \u001b[0;32m~/.local/lib/python3.10/site-packages/eth_utils/applicators.py:36\u001b[0m, in \u001b[0;36mapply_formatter_at_index\u001b[0;34m(formatter, at_index, value)\u001b[0m\n\u001b[1;32m     34\u001b[0m \u001b[39mfor\u001b[39;00m index, item \u001b[39min\u001b[39;00m \u001b[39menumerate\u001b[39m(value):\n\u001b[1;32m     35\u001b[0m     \u001b[39mif\u001b[39;00m index \u001b[39m==\u001b[39m at_index:\n\u001b[0;32m---> 36\u001b[0m         \u001b[39myield\u001b[39;00m formatter(item)\n\u001b[1;32m     37\u001b[0m     \u001b[39melse\u001b[39;00m:\n\u001b[1;32m     38\u001b[0m         \u001b[39myield\u001b[39;00m item\n",
      "File \u001b[0;32m~/.local/lib/python3.10/site-packages/cytoolz/functoolz.pyx:263\u001b[0m, in \u001b[0;36mcytoolz.functoolz.curry.__call__\u001b[0;34m()\u001b[0m\n",
      "File \u001b[0;32m~/.local/lib/python3.10/site-packages/web3/_utils/rpc_abi.py:236\u001b[0m, in \u001b[0;36mapply_abi_formatters_to_dict\u001b[0;34m(normalizers, abi_dict, data)\u001b[0m\n\u001b[1;32m    230\u001b[0m \u001b[39m@curry\u001b[39m\n\u001b[1;32m    231\u001b[0m \u001b[39mdef\u001b[39;00m \u001b[39mapply_abi_formatters_to_dict\u001b[39m(\n\u001b[1;32m    232\u001b[0m     normalizers: Sequence[Callable[[TypeStr, Any], Tuple[TypeStr, Any]]],\n\u001b[1;32m    233\u001b[0m     abi_dict: Dict[\u001b[39mstr\u001b[39m, Any],\n\u001b[1;32m    234\u001b[0m     data: Dict[Any, Any],\n\u001b[1;32m    235\u001b[0m ) \u001b[39m-\u001b[39m\u001b[39m>\u001b[39m Dict[Any, Any]:\n\u001b[0;32m--> 236\u001b[0m     fields \u001b[39m=\u001b[39m \u001b[39mlist\u001b[39m(abi_dict\u001b[39m.\u001b[39mkeys() \u001b[39m&\u001b[39m data\u001b[39m.\u001b[39;49mkeys())\n\u001b[1;32m    237\u001b[0m     formatted_values \u001b[39m=\u001b[39m map_abi_data(\n\u001b[1;32m    238\u001b[0m         normalizers,\n\u001b[1;32m    239\u001b[0m         [abi_dict[field] \u001b[39mfor\u001b[39;00m field \u001b[39min\u001b[39;00m fields],\n\u001b[1;32m    240\u001b[0m         [data[field] \u001b[39mfor\u001b[39;00m field \u001b[39min\u001b[39;00m fields],\n\u001b[1;32m    241\u001b[0m     )\n\u001b[1;32m    242\u001b[0m     formatted_dict \u001b[39m=\u001b[39m \u001b[39mdict\u001b[39m(\u001b[39mzip\u001b[39m(fields, formatted_values))\n",
      "\u001b[0;31mAttributeError\u001b[0m: 'SignedTransaction' object has no attribute 'keys'"
     ]
    }
   ],
   "source": [
    "from web3 import Web3\n",
    "\n",
    "# Connetti a un nodo Ethereum (ad esempio, Infura)\n",
    "w3 = Web3(Web3.HTTPProvider('http://172.29.48.1:7545'))\n",
    "print(w3.is_connected())\n",
    "\n",
    "\n",
    "# Make a transaction\n",
    "# 1. Get the nonce\n",
    "# 2. Build the transaction\n",
    "# 3. Sign the transaction\n",
    "# 4. Send the transaction\n",
    "# 5. Get the transaction hash\n",
    "# 6. Get the transaction receipt\n",
    "\n",
    "# 1. Get the nonce\n",
    "nonce = w3.eth.get_transaction_count('0x610F9c48956a4fC232Cf1b0672BacAB813c6fDe8')\n",
    "print(nonce)\n",
    "\n",
    "# 2. Build the transaction\n",
    "tx = {\n",
    "    'nonce': nonce,\n",
    "    'to': '0xAb8483F64d9C6d1EcF9b849Ae677dD3315835cb2',\n",
    "    'value': w3.to_wei(1, 'ether'),\n",
    "    'gas': 2000000,\n",
    "    'gasPrice': w3.to_wei('50', 'gwei')\n",
    "}\n",
    "\n",
    "# 3. Sign the transaction\n",
    "signed_tx = w3.eth.account.sign_transaction(tx, '0x4646464646464646464646464646464646464646464646464646464646464646')\n",
    "\n",
    "# 4. Send the transaction\n",
    "tx_hash = w3.eth.send_transaction(signed_tx)\n",
    "print(tx_hash)\n",
    "\n",
    "# 5. Get the transaction hash\n",
    "tx_receipt = w3.eth.wait_for_transaction_receipt(tx_hash)\n",
    "print(tx_receipt)\n",
    "\n",
    "# 6. Get the transaction receipt\n",
    "\n",
    "# Path: test.ipynb\n"
   ]
  },
  {
   "cell_type": "code",
   "execution_count": null,
   "metadata": {},
   "outputs": [],
   "source": []
  }
 ],
 "metadata": {
  "kernelspec": {
   "display_name": "Python 3",
   "language": "python",
   "name": "python3"
  },
  "language_info": {
   "codemirror_mode": {
    "name": "ipython",
    "version": 3
   },
   "file_extension": ".py",
   "mimetype": "text/x-python",
   "name": "python",
   "nbconvert_exporter": "python",
   "pygments_lexer": "ipython3",
   "version": "3.10.12"
  },
  "orig_nbformat": 4
 },
 "nbformat": 4,
 "nbformat_minor": 2
}
